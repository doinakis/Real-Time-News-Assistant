{
 "cells": [
  {
   "cell_type": "code",
   "execution_count": null,
   "metadata": {},
   "outputs": [],
   "source": [
    "from haystack.utils import launch_es\n",
    "launch_es()"
   ]
  },
  {
   "cell_type": "code",
   "execution_count": null,
   "metadata": {},
   "outputs": [],
   "source": [
    "from qasystem.QASystem import *\n",
    "from evaluation.xquadevaluation import *\n",
    "from tqdm.contrib import tzip"
   ]
  },
  {
   "cell_type": "code",
   "execution_count": null,
   "metadata": {},
   "outputs": [],
   "source": [
    "db = Database()\n",
    "db.connect()\n",
    "db.delete_all_documents()\n",
    "# df, dicts = xquad_data_prepare('/home/doinakis/github/haystack/xquad-dataset/xquad.el.json')\n",
    "# db.add_documents(dicts=dicts)\n",
    "# qa = QASystem(database=db)\n"
   ]
  },
  {
   "cell_type": "code",
   "execution_count": null,
   "metadata": {},
   "outputs": [],
   "source": [
    "from scrapping.CNNScrape import *"
   ]
  },
  {
   "cell_type": "code",
   "execution_count": null,
   "metadata": {},
   "outputs": [],
   "source": [
    "docs = scrape_init(\"./test_db/politiki\", \"politiki\", 0, 2)"
   ]
  },
  {
   "cell_type": "code",
   "execution_count": null,
   "metadata": {},
   "outputs": [],
   "source": [
    "db.add_documents(docs)"
   ]
  },
  {
   "cell_type": "code",
   "execution_count": null,
   "metadata": {},
   "outputs": [],
   "source": [
    "f1_scores = []\n",
    "em_scores = []\n",
    "retriever_em = []\n",
    "actual_ans = []\n",
    "predicted_ans = []\n",
    "for question, answer, doc_id in tzip(df.question, df.answer, df.doc_id):\n",
    "  prediction = qa.pipe.run(\n",
    "    query=f\"{question}\", params={\"ESRetriever\": {\"top_k\": 3}, \"Reader\": {\"top_k\": 1}}\n",
    "  )\n",
    "  actual_ans.append(answer['text'])\n",
    "  predicted_ans.append(prediction['answers'][0].answer)\n",
    "  retriever_em.append(int(prediction['documents'][0].meta['name'] == doc_id))\n",
    "  em = compute_em(prediction['answers'][0].answer, answer['text'])\n",
    "  em_scores.append(em)\n",
    "  if em == 1:\n",
    "    f1_scores.append(1)\n",
    "  else:\n",
    "    f1_scores.append(compute_f1(prediction['answers'][0].answer, answer['text']))\n",
    "\n",
    "scores = pd.DataFrame()\n",
    "scores['actual'] = actual_ans\n",
    "scores['predicted'] =predicted_ans\n",
    "scores['em'] = em_scores\n",
    "scores['f1'] = f1_scores\n",
    "scores['retriever_em'] = retriever_em\n",
    "\n",
    "print(f'Exact Match: {scores.em.mean()}')\n",
    "print(f'F1-Score: {scores.f1.mean()}')\n",
    "print(f'Accuracy: {scores.retriever_em.mean()}')"
   ]
  },
  {
   "cell_type": "code",
   "execution_count": null,
   "metadata": {},
   "outputs": [],
   "source": [
    "import pandas as pd"
   ]
  },
  {
   "cell_type": "code",
   "execution_count": null,
   "metadata": {},
   "outputs": [],
   "source": [
    "topic_data = pd.read_json('topic_data.json')"
   ]
  },
  {
   "cell_type": "code",
   "execution_count": null,
   "metadata": {},
   "outputs": [],
   "source": [
    "for index, data in topic_data.iterrows():\n",
    "  data.label = ''.join(data.label)"
   ]
  },
  {
   "cell_type": "code",
   "execution_count": null,
   "metadata": {},
   "outputs": [],
   "source": [
    "to_keep = (topic_data.label == 'Τηλεόραση') | \\\n",
    "  (topic_data.label == 'Τέχνες-Πολιτισμός') | \\\n",
    "  (topic_data.label == 'Επιστολές')         | \\\n",
    "  (topic_data.label == 'Αστυνομικά')        | \\\n",
    "  (topic_data.label == 'Ζώδια')             | \\\n",
    "  (topic_data.label == 'Καιρός')            | \\\n",
    "  (topic_data.label == 'Διαφημίσεις')       | \\\n",
    "  (topic_data.label == 'Βιογραφίες')        | \\\n",
    "  (topic_data.label == 'Κοινωνικά')         | \\\n",
    "  (topic_data.label == 'Συνεντεύξεις')      | \\\n",
    "  (topic_data.label == 'Διάφορα')"
   ]
  },
  {
   "cell_type": "code",
   "execution_count": null,
   "metadata": {},
   "outputs": [],
   "source": [
    "new_topic = topic_data.drop(topic_data[~to_keep].index).reset_index()"
   ]
  },
  {
   "cell_type": "code",
   "execution_count": null,
   "metadata": {},
   "outputs": [],
   "source": [
    "new_topic.label.value_counts()"
   ]
  },
  {
   "cell_type": "code",
   "execution_count": null,
   "metadata": {},
   "outputs": [],
   "source": [
    "other_data_df = pd.DataFrame()\n",
    "other_data_df['content'] = new_topic.text\n",
    "other_data_df['url'] = 'no_url'\n",
    "other_data_df['name'] = 'makedonia'\n",
    "other_data_df['title'] = 'no_title'\n",
    "other_data_df['category'] = 'other'"
   ]
  },
  {
   "cell_type": "code",
   "execution_count": null,
   "metadata": {},
   "outputs": [],
   "source": [
    "single =  pd.read_json('/home/doinakis/github/Real-Time-News-Assistant/db/single_file_db.json')\n",
    "train = pd.read_json('/home/doinakis/github/Real-Time-News-Assistant/db/train_dataset.json')\n",
    "val = pd.read_json('/home/doinakis/github/Real-Time-News-Assistant/db/val_dataset.json')\n",
    "test = pd.read_json('/home/doinakis/github/Real-Time-News-Assistant/db/test_dataset.json')"
   ]
  },
  {
   "cell_type": "code",
   "execution_count": null,
   "metadata": {},
   "outputs": [],
   "source": [
    "single['category'].value_counts()"
   ]
  },
  {
   "cell_type": "code",
   "execution_count": null,
   "metadata": {},
   "outputs": [],
   "source": [
    "train['category'].value_counts()"
   ]
  },
  {
   "cell_type": "code",
   "execution_count": null,
   "metadata": {},
   "outputs": [],
   "source": [
    "val['category'].value_counts()"
   ]
  },
  {
   "cell_type": "code",
   "execution_count": null,
   "metadata": {},
   "outputs": [],
   "source": [
    "test['category'].value_counts()"
   ]
  },
  {
   "cell_type": "code",
   "execution_count": null,
   "metadata": {},
   "outputs": [],
   "source": [
    "test"
   ]
  },
  {
   "cell_type": "code",
   "execution_count": null,
   "metadata": {},
   "outputs": [],
   "source": [
    "from haystack.nodes import BM25Retriever\n",
    "from qasystem.QASystem import *\n",
    "db = Database()\n",
    "db.connect()"
   ]
  },
  {
   "cell_type": "code",
   "execution_count": null,
   "metadata": {},
   "outputs": [],
   "source": [
    "bm25 = BM25Retriever(db.document_store)"
   ]
  },
  {
   "cell_type": "code",
   "execution_count": null,
   "metadata": {},
   "outputs": [],
   "source": [
    "documents= bm25.retrieve(query=\"ποσους ποντους παρεδωσε η αμυνα?\", top_k=2)"
   ]
  },
  {
   "cell_type": "code",
   "execution_count": null,
   "metadata": {},
   "outputs": [],
   "source": [
    "documents[0].meta"
   ]
  },
  {
   "cell_type": "code",
   "execution_count": null,
   "metadata": {},
   "outputs": [],
   "source": [
    "for document in documents:\n",
    "  print(document.meta['name'])"
   ]
  },
  {
   "cell_type": "code",
   "execution_count": null,
   "metadata": {},
   "outputs": [],
   "source": [
    "names = []\n",
    "for document in documents:\n",
    "  names.append(document.meta['name'])"
   ]
  },
  {
   "cell_type": "code",
   "execution_count": null,
   "metadata": {},
   "outputs": [],
   "source": [
    "names"
   ]
  },
  {
   "cell_type": "code",
   "execution_count": null,
   "metadata": {},
   "outputs": [],
   "source": [
    "int('document0.jdsson' in names)"
   ]
  },
  {
   "cell_type": "code",
   "execution_count": null,
   "metadata": {},
   "outputs": [],
   "source": [
    "from haystack.nodes import FARMReader"
   ]
  },
  {
   "cell_type": "code",
   "execution_count": null,
   "metadata": {},
   "outputs": [],
   "source": [
    "reader = FARMReader(model_name_or_path=\"deepset/xlm-roberta-large-squad2\", max_seq_len=256, doc_stride=128, use_gpu=True, progress_bar=False)"
   ]
  },
  {
   "cell_type": "code",
   "execution_count": null,
   "metadata": {},
   "outputs": [],
   "source": [
    "from evaluation.xquadevaluation import *\n",
    "df, dicts = xquad_data_prepare('/home/doinakis/github/haystack/xquad-dataset/xquad.el.json')"
   ]
  },
  {
   "cell_type": "code",
   "execution_count": null,
   "metadata": {},
   "outputs": [],
   "source": [
    "from haystack.schema import Document"
   ]
  },
  {
   "cell_type": "code",
   "execution_count": null,
   "metadata": {},
   "outputs": [],
   "source": [
    "doc = Document(content=dicts[0]['content'], id=dicts[0]['meta']['name'])"
   ]
  },
  {
   "cell_type": "code",
   "execution_count": null,
   "metadata": {},
   "outputs": [],
   "source": [
    "prediction = reader.predict(\n",
    "    query=\"Ποσους ποντους παρεδωσαν οι Καρολινα Πανθερς?\",\n",
    "    documents=[doc],\n",
    "    top_k=1\n",
    ")\n"
   ]
  },
  {
   "cell_type": "code",
   "execution_count": null,
   "metadata": {},
   "outputs": [],
   "source": [
    "prediction"
   ]
  },
  {
   "cell_type": "code",
   "execution_count": null,
   "metadata": {},
   "outputs": [],
   "source": [
    "prediction['answers'][0].meta"
   ]
  },
  {
   "cell_type": "code",
   "execution_count": null,
   "metadata": {},
   "outputs": [],
   "source": [
    "import matplotlib.pyplot as plt"
   ]
  },
  {
   "cell_type": "code",
   "execution_count": null,
   "metadata": {},
   "outputs": [],
   "source": [
    "bm25_scores = [0.9058823529411765, 0.946218487394958, 0.9630252100840336,\\\n",
    "              0.9672268907563025, 0.9739495798319328, 0.9773109243697479,\\\n",
    "              0.980672268907563, 0.9823529411764705, 0.9831932773109243,\\\n",
    "              0.984873949579832]\n",
    "tfidf_scores = [0.7949579831932773, 0.8722689075630252, 0.9067226890756303,\\\n",
    "                0.9243697478991597, 0.9369747899159664, 0.9436974789915966,\\\n",
    "                0.9453781512605042, 0.9546218487394958, 0.9563025210084034,\\\n",
    "                0.9588235294117647]"
   ]
  },
  {
   "cell_type": "code",
   "execution_count": null,
   "metadata": {},
   "outputs": [],
   "source": [
    "fig, ax = plt.subplots()\n",
    "ax.set_xticks(range(1,11))\n",
    "ax.set_ylabel(\"Accuracy\")\n",
    "ax.set_xlabel(\"#Documents\")\n",
    "ax.set_title(\"BM25 Retriever\")\n",
    "ax.grid(True)\n",
    "ax.plot(range(1,11), bm25_scores)\n",
    "fig.savefig('bm25-acc.eps', format='eps')\n"
   ]
  },
  {
   "cell_type": "code",
   "execution_count": null,
   "metadata": {},
   "outputs": [],
   "source": [
    "fig, ax = plt.subplots()\n",
    "ax.set_xticks(range(1,11))\n",
    "ax.set_yticks(tfidf_scores)\n",
    "ax.set_ylabel(\"Accuracy\")\n",
    "ax.set_xlabel(\"#Documents\")\n",
    "ax.set_title(\"TF-IDF Retriever\")\n",
    "ax.grid(True)\n",
    "ax.plot(range(1,11), tfidf_scores)\n",
    "# fig.savefig('tf-idf-acc.eps', format='eps')"
   ]
  },
  {
   "cell_type": "code",
   "execution_count": null,
   "metadata": {},
   "outputs": [],
   "source": [
    "# max_seq_len: 256 doc_stride: 128\n",
    "model_names = ['xlm-roberta-large-squad2', 'triviaqa_bert_el',\\\n",
    "              'squad_bert_el', 'nq_bert_el', \\\n",
    "              'qacombination_bert_el', 'newsqa_bert_el']\n",
    "model_em_256_128 = [0.5571428571428572, 0.27899159663865547, 0.5714285714285714,\\\n",
    "                    0.38487394957983195, 0.5563025210084034, 0.3915966386554622]\n",
    "model_f1_256_128 = [0.7576235228024292, 0.40941624672575755, 0.7488355404570559,\\\n",
    "                    0.5751819914035066, 0.7425348937014348, 0.5879300567309794]\n",
    "model_em_512_256 = [0.5638655462184874, 0.2747899159663866, 0.5722689075630252,\\\n",
    "                    0.38487394957983195, 0.5563025210084034, 0.3915966386554622]\n",
    "model_f1_512_256 = [0.7682348032816143, 0.40700003996657036, 0.7484068464636124,\\\n",
    "                    0.5766027094375391, 0.7413629981253088, 0.5864217801261221]\n"
   ]
  },
  {
   "cell_type": "code",
   "execution_count": null,
   "metadata": {},
   "outputs": [],
   "source": [
    "print(round(model_em_256_128,3))"
   ]
  },
  {
   "cell_type": "code",
   "execution_count": null,
   "metadata": {},
   "outputs": [],
   "source": []
  }
 ],
 "metadata": {
  "interpreter": {
   "hash": "cf2f0608826b862381613eb4ca43cf790e87ee1028577bf9c64e31d4a8e8decb"
  },
  "kernelspec": {
   "display_name": "Python 3.8.10 ('Real-Time-News-Assistant')",
   "language": "python",
   "name": "python3"
  },
  "language_info": {
   "codemirror_mode": {
    "name": "ipython",
    "version": 3
   },
   "file_extension": ".py",
   "mimetype": "text/x-python",
   "name": "python",
   "nbconvert_exporter": "python",
   "pygments_lexer": "ipython3",
   "version": "3.8.10"
  },
  "orig_nbformat": 4,
  "vscode": {
   "interpreter": {
    "hash": "cf2f0608826b862381613eb4ca43cf790e87ee1028577bf9c64e31d4a8e8decb"
   }
  }
 },
 "nbformat": 4,
 "nbformat_minor": 2
}
