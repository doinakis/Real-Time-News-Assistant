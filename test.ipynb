{
 "cells": [
  {
   "cell_type": "code",
   "execution_count": null,
   "metadata": {},
   "outputs": [],
   "source": [
    "from qasystem.QASystem import *\n",
    "from evaluation.xquadevaluation import *\n",
    "from tqdm.contrib import tzip"
   ]
  },
  {
   "cell_type": "code",
   "execution_count": null,
   "metadata": {},
   "outputs": [],
   "source": [
    "# db = Database()\n",
    "# db.connect()\n",
    "# db.delete_all_documents()\n",
    "df, dicts = xquad_data_prepare('/home/doinakis/github/haystack/xquad-dataset/xquad.el.json')\n",
    "# db.add_documents(dicts=dicts)\n",
    "# qa = QASystem(database=db)\n"
   ]
  },
  {
   "cell_type": "code",
   "execution_count": null,
   "metadata": {},
   "outputs": [],
   "source": [
    "df.answer[:10]"
   ]
  },
  {
   "cell_type": "code",
   "execution_count": null,
   "metadata": {},
   "outputs": [],
   "source": [
    "f1_scores = []\n",
    "em_scores = []\n",
    "retriever_em = []\n",
    "actual_ans = []\n",
    "predicted_ans = []\n",
    "for question, answer, doc_id in tzip(df.question, df.answer, df.doc_id):\n",
    "  prediction = qa.pipe.run(\n",
    "    query=f\"{question}\", params={\"ESRetriever\": {\"top_k\": 3}, \"Reader\": {\"top_k\": 1}}\n",
    "  )\n",
    "  actual_ans.append(answer['text'])\n",
    "  predicted_ans.append(prediction['answers'][0].answer)\n",
    "  retriever_em.append(int(prediction['documents'][0].meta['name'] == doc_id))\n",
    "  em = compute_em(prediction['answers'][0].answer, answer['text'])\n",
    "  em_scores.append(em)\n",
    "  if em == 1:\n",
    "    f1_scores.append(1)\n",
    "  else:\n",
    "    f1_scores.append(compute_f1(prediction['answers'][0].answer, answer['text']))\n",
    "\n",
    "scores = pd.DataFrame()\n",
    "scores['actual'] = actual_ans\n",
    "scores['predicted'] =predicted_ans\n",
    "scores['em'] = em_scores\n",
    "scores['f1'] = f1_scores\n",
    "scores['retriever_em'] = retriever_em\n",
    "\n",
    "print(f'Exact Match: {scores.em.mean()}')\n",
    "print(f'F1-Score: {scores.f1.mean()}')\n",
    "print(f'Accuracy: {scores.retriever_em.mean()}')"
   ]
  },
  {
   "cell_type": "code",
   "execution_count": null,
   "metadata": {},
   "outputs": [],
   "source": []
  }
 ],
 "metadata": {
  "interpreter": {
   "hash": "f148e8c00d58795c33ac075dd1563f6b192e2188dcf6aee475f286ff96ebe7ec"
  },
  "kernelspec": {
   "display_name": "Python 3.8.10 64-bit ('haystack': venv)",
   "language": "python",
   "name": "python3"
  },
  "language_info": {
   "codemirror_mode": {
    "name": "ipython",
    "version": 3
   },
   "file_extension": ".py",
   "mimetype": "text/x-python",
   "name": "python",
   "nbconvert_exporter": "python",
   "pygments_lexer": "ipython3",
   "version": "3.8.10"
  },
  "orig_nbformat": 4
 },
 "nbformat": 4,
 "nbformat_minor": 2
}
