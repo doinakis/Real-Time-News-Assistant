{
 "cells": [
  {
   "cell_type": "code",
   "execution_count": null,
   "metadata": {},
   "outputs": [],
   "source": [
    "from haystack.utils import launch_es\n",
    "launch_es()"
   ]
  },
  {
   "cell_type": "code",
   "execution_count": null,
   "metadata": {},
   "outputs": [],
   "source": [
    "from qasystem.QASystem import *\n",
    "from evaluation.xquadevaluation import *\n",
    "from tqdm.contrib import tzip"
   ]
  },
  {
   "cell_type": "code",
   "execution_count": null,
   "metadata": {},
   "outputs": [],
   "source": [
    "db = Database()\n",
    "db.connect()\n",
    "db.delete_all_documents()\n",
    "# df, dicts = xquad_data_prepare('/home/doinakis/github/haystack/xquad-dataset/xquad.el.json')\n",
    "# db.add_documents(dicts=dicts)\n",
    "# qa = QASystem(database=db)\n"
   ]
  },
  {
   "cell_type": "code",
   "execution_count": null,
   "metadata": {},
   "outputs": [],
   "source": [
    "from scrapping.CNNScrape import *"
   ]
  },
  {
   "cell_type": "code",
   "execution_count": null,
   "metadata": {},
   "outputs": [],
   "source": [
    "docs = scrape_init(\"./test_db/politiki\", \"politiki\", 0, 2)"
   ]
  },
  {
   "cell_type": "code",
   "execution_count": null,
   "metadata": {},
   "outputs": [],
   "source": [
    "db.add_documents(docs)"
   ]
  },
  {
   "cell_type": "code",
   "execution_count": null,
   "metadata": {},
   "outputs": [],
   "source": [
    "f1_scores = []\n",
    "em_scores = []\n",
    "retriever_em = []\n",
    "actual_ans = []\n",
    "predicted_ans = []\n",
    "for question, answer, doc_id in tzip(df.question, df.answer, df.doc_id):\n",
    "  prediction = qa.pipe.run(\n",
    "    query=f\"{question}\", params={\"ESRetriever\": {\"top_k\": 3}, \"Reader\": {\"top_k\": 1}}\n",
    "  )\n",
    "  actual_ans.append(answer['text'])\n",
    "  predicted_ans.append(prediction['answers'][0].answer)\n",
    "  retriever_em.append(int(prediction['documents'][0].meta['name'] == doc_id))\n",
    "  em = compute_em(prediction['answers'][0].answer, answer['text'])\n",
    "  em_scores.append(em)\n",
    "  if em == 1:\n",
    "    f1_scores.append(1)\n",
    "  else:\n",
    "    f1_scores.append(compute_f1(prediction['answers'][0].answer, answer['text']))\n",
    "\n",
    "scores = pd.DataFrame()\n",
    "scores['actual'] = actual_ans\n",
    "scores['predicted'] =predicted_ans\n",
    "scores['em'] = em_scores\n",
    "scores['f1'] = f1_scores\n",
    "scores['retriever_em'] = retriever_em\n",
    "\n",
    "print(f'Exact Match: {scores.em.mean()}')\n",
    "print(f'F1-Score: {scores.f1.mean()}')\n",
    "print(f'Accuracy: {scores.retriever_em.mean()}')"
   ]
  },
  {
   "cell_type": "code",
   "execution_count": null,
   "metadata": {},
   "outputs": [],
   "source": [
    "import pandas as pd"
   ]
  },
  {
   "cell_type": "code",
   "execution_count": null,
   "metadata": {},
   "outputs": [],
   "source": [
    "topic_data = pd.read_json('topic_data.json')"
   ]
  },
  {
   "cell_type": "code",
   "execution_count": null,
   "metadata": {},
   "outputs": [],
   "source": [
    "for index, data in topic_data.iterrows():\n",
    "  data.label = ''.join(data.label)"
   ]
  },
  {
   "cell_type": "code",
   "execution_count": null,
   "metadata": {},
   "outputs": [],
   "source": [
    "to_keep = (topic_data.label == 'Τηλεόραση') | \\\n",
    "  (topic_data.label == 'Τέχνες-Πολιτισμός') | \\\n",
    "  (topic_data.label == 'Επιστολές')         | \\\n",
    "  (topic_data.label == 'Αστυνομικά')        | \\\n",
    "  (topic_data.label == 'Ζώδια')             | \\\n",
    "  (topic_data.label == 'Καιρός')            | \\\n",
    "  (topic_data.label == 'Διαφημίσεις')       | \\\n",
    "  (topic_data.label == 'Βιογραφίες')        | \\\n",
    "  (topic_data.label == 'Κοινωνικά')         | \\\n",
    "  (topic_data.label == 'Συνεντεύξεις')      | \\\n",
    "  (topic_data.label == 'Διάφορα')"
   ]
  },
  {
   "cell_type": "code",
   "execution_count": null,
   "metadata": {},
   "outputs": [],
   "source": [
    "new_topic = topic_data.drop(topic_data[~to_keep].index).reset_index()"
   ]
  },
  {
   "cell_type": "code",
   "execution_count": null,
   "metadata": {},
   "outputs": [],
   "source": [
    "new_topic.label.value_counts()"
   ]
  },
  {
   "cell_type": "code",
   "execution_count": null,
   "metadata": {},
   "outputs": [],
   "source": [
    "other_data_df = pd.DataFrame()\n",
    "other_data_df['content'] = new_topic.text\n",
    "other_data_df['url'] = 'no_url'\n",
    "other_data_df['name'] = 'makedonia'\n",
    "other_data_df['title'] = 'no_title'\n",
    "other_data_df['category'] = 'other'"
   ]
  },
  {
   "cell_type": "code",
   "execution_count": null,
   "metadata": {},
   "outputs": [],
   "source": [
    "kappa =  pd.read_json('/home/doinakis/github/Real-Time-News-Assistant/db/train_dataset.json')"
   ]
  },
  {
   "cell_type": "code",
   "execution_count": null,
   "metadata": {},
   "outputs": [],
   "source": [
    "kappa.__len__()"
   ]
  },
  {
   "cell_type": "code",
   "execution_count": null,
   "metadata": {},
   "outputs": [],
   "source": [
    "kappa.shape[0]"
   ]
  },
  {
   "cell_type": "code",
   "execution_count": null,
   "metadata": {},
   "outputs": [],
   "source": [
    "date = \"2022-05-01T00:00:00.000+02:00\""
   ]
  },
  {
   "cell_type": "code",
   "execution_count": null,
   "metadata": {},
   "outputs": [],
   "source": [
    "date = date.split('T')[0]"
   ]
  },
  {
   "cell_type": "code",
   "execution_count": null,
   "metadata": {},
   "outputs": [],
   "source": [
    "date"
   ]
  },
  {
   "cell_type": "code",
   "execution_count": null,
   "metadata": {},
   "outputs": [],
   "source": [
    "from datetime import datetime"
   ]
  },
  {
   "cell_type": "code",
   "execution_count": null,
   "metadata": {},
   "outputs": [],
   "source": [
    "then = datetime.strptime(date, '%Y-%m-%d')"
   ]
  },
  {
   "cell_type": "code",
   "execution_count": null,
   "metadata": {},
   "outputs": [],
   "source": [
    "now = datetime.now()"
   ]
  },
  {
   "cell_type": "code",
   "execution_count": null,
   "metadata": {},
   "outputs": [],
   "source": [
    "now.time()"
   ]
  },
  {
   "cell_type": "code",
   "execution_count": null,
   "metadata": {},
   "outputs": [],
   "source": [
    "now > then"
   ]
  },
  {
   "cell_type": "code",
   "execution_count": null,
   "metadata": {},
   "outputs": [],
   "source": [
    "from haystack.nodes import BM25Retriever\n",
    "from qasystem.QASystem import *\n",
    "db = Database()\n",
    "db.connect()"
   ]
  },
  {
   "cell_type": "code",
   "execution_count": null,
   "metadata": {},
   "outputs": [],
   "source": [
    "bm25 = BM25Retriever(db.document_store)"
   ]
  },
  {
   "cell_type": "code",
   "execution_count": null,
   "metadata": {},
   "outputs": [],
   "source": [
    "documents= bm25.retrieve(query=\"ποσους ποντους παρεδωσε η αμυνα?\", top_k=2)"
   ]
  },
  {
   "cell_type": "code",
   "execution_count": null,
   "metadata": {},
   "outputs": [],
   "source": [
    "documents[0].meta"
   ]
  },
  {
   "cell_type": "code",
   "execution_count": null,
   "metadata": {},
   "outputs": [],
   "source": [
    "for document in documents:\n",
    "  print(document.meta['name'])"
   ]
  },
  {
   "cell_type": "code",
   "execution_count": null,
   "metadata": {},
   "outputs": [],
   "source": [
    "names = []\n",
    "for document in documents:\n",
    "  names.append(document.meta['name'])"
   ]
  },
  {
   "cell_type": "code",
   "execution_count": null,
   "metadata": {},
   "outputs": [],
   "source": [
    "names"
   ]
  },
  {
   "cell_type": "code",
   "execution_count": null,
   "metadata": {},
   "outputs": [],
   "source": [
    "int('document0.jdsson' in names)"
   ]
  },
  {
   "cell_type": "code",
   "execution_count": null,
   "metadata": {},
   "outputs": [],
   "source": []
  }
 ],
 "metadata": {
  "interpreter": {
   "hash": "cf2f0608826b862381613eb4ca43cf790e87ee1028577bf9c64e31d4a8e8decb"
  },
  "kernelspec": {
   "display_name": "Python 3.8.10 ('Real-Time-News-Assistant')",
   "language": "python",
   "name": "python3"
  },
  "language_info": {
   "codemirror_mode": {
    "name": "ipython",
    "version": 3
   },
   "file_extension": ".py",
   "mimetype": "text/x-python",
   "name": "python",
   "nbconvert_exporter": "python",
   "pygments_lexer": "ipython3",
   "version": "3.8.10"
  },
  "orig_nbformat": 4,
  "vscode": {
   "interpreter": {
    "hash": "cf2f0608826b862381613eb4ca43cf790e87ee1028577bf9c64e31d4a8e8decb"
   }
  }
 },
 "nbformat": 4,
 "nbformat_minor": 2
}
